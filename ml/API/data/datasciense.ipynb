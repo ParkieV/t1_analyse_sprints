{
 "cells": [
  {
   "cell_type": "code",
   "execution_count": null,
   "metadata": {},
   "outputs": [],
   "source": [
    "# Task parser\n",
    "from datetime import datetime\n",
    "import csv\n",
    "\n",
    "file_path = r'data_t1/data_for_spb_hakaton_entities1-Table 1.csv'\n",
    "\n",
    "with open(file_path, newline='', encoding='utf-8') as csvfile:\n",
    "    csv_reader = csv.reader(csvfile, delimiter=';', quotechar='\"')\n",
    "    task_data = [row for row in csv_reader]\n",
    "\n",
    "print(task_data)"
   ]
  },
  {
   "cell_type": "code",
   "execution_count": null,
   "metadata": {},
   "outputs": [],
   "source": [
    "# History parser\n",
    "\n",
    "def add_or_update_key(dictionary : dict, key, value_to_add):\n",
    "    dictionary[key] = dictionary.setdefault(key, [])\n",
    "    dictionary[key].append(value_to_add)\n",
    "\n",
    "file_path2 = r'data_t1/history-Table 1.csv'\n",
    "\n",
    "with open(file_path2, newline='', encoding='utf-8') as csvfile:\n",
    "    csv_reader2 = csv.reader(csvfile, delimiter=';', quotechar='\"')\n",
    "    history_data = [row for row in csv_reader2]\n",
    "\n",
    "history_main_dict = {}\n",
    "\n",
    "for pack in history_data:\n",
    "    add_or_update_key(history_main_dict, pack[0], pack[1:])\n",
    "    \n",
    "print(history_main_dict['4337639'])"
   ]
  },
  {
   "cell_type": "code",
   "execution_count": null,
   "metadata": {},
   "outputs": [],
   "source": [
    "# sprints-table parser\n",
    "\n",
    "\n",
    "\n",
    "file_path2 = r'data_t1/sprints-Table 1.csv'\n",
    "\n",
    "with open(file_path2, newline='', encoding='utf-8') as csvfile:\n",
    "    csv_reader2 = csv.reader(csvfile, delimiter=';', quotechar='\"')\n",
    "    sprint_data = [row for row in csv_reader2]\n",
    "\n",
    "for i in sprint_data:\n",
    "    print(i)"
   ]
  },
  {
   "cell_type": "code",
   "execution_count": null,
   "metadata": {},
   "outputs": [],
   "source": [
    "# investigate one sprint ! Спринт 2024.3.1.NPP Shared Sprint\n",
    "\n",
    "def search_through_status_changes(key, fake_status_changes):\n",
    "    status_change_trace = []\n",
    "    for event in history_main_dict[key]:\n",
    "        #! print(delta_time := ((datetime.strptime(sprint_end_date, '%Y-%m-%d %H:%M:%S.%f') - datetime.strptime(event[1], '%m/%d/%y %H:%M')).seconds / 3600))\n",
    "        if event[0] == \"Статус\":\n",
    "            status_change_trace.append(datetime.strptime(event[1], '%m/%d/%y %H:%M'))\n",
    "    status_change_trace.sort()\n",
    "    time_diference = []\n",
    "    for i in range(1, len(status_change_trace)):\n",
    "        time_diference.append((status_change_trace[i] - status_change_trace[i - 1]).total_seconds() / 60)\n",
    "    if len(time_diference) != 0 and (sum(time_diference) / len(time_diference)) <= 5:\n",
    "        fake_status_changes += 1\n",
    "        \n",
    "    print(key, time_diference, status_change_trace)\n",
    "    return fake_status_changes\n",
    "        \n",
    "def search_for_last_day_status_change(key, sprint_end_date, last_day_completed_counter):\n",
    "    for event in history_main_dict[key]:\n",
    "        if (event[0] == \"Статус\") and (event[4].split(' ')[-1] == 'closed'):\n",
    "           delta_time = ((datetime.strptime(sprint_end_date, '%Y-%m-%d %H:%M:%S.%f') - datetime.strptime(event[1], '%m/%d/%y %H:%M'))).days\n",
    "           if delta_time == 0:\n",
    "               print(key, event)\n",
    "               last_day_completed_counter += 1\n",
    "    return last_day_completed_counter\n",
    "\n",
    "for pack in sprint_data:\n",
    "    if 'Спринт 2024.3.2.NPP Shared Sprint' in pack:\n",
    "        sprint_end_date = pack[3]\n",
    "        enteties = pack[-1]\n",
    "        enteties = enteties.replace('{', '')\n",
    "        enteties = enteties.replace('}', '')\n",
    "        entitiences = enteties.split(\",\")\n",
    "        # print(entitiences)\n",
    "        # print(sprint_end_date)\n",
    "        break\n",
    "\n",
    "fake_changes = 0\n",
    "last_day_completions = 0\n",
    "for instance in entitiences:\n",
    "    fake_changes = search_through_status_changes(instance, fake_changes)\n",
    "    last_day_completions = search_for_last_day_status_change(instance, sprint_end_date, last_day_completions)\n",
    "\n",
    "print(fake_changes, fake_changes_percent := round((fake_changes / len(entitiences)) * 100) )\n",
    "print(last_day_completions, last_day_completions_percent := round((last_day_completions / len(entitiences)) * 100) )\n",
    "\n",
    "\n",
    "\n",
    "\n"
   ]
  },
  {
   "cell_type": "code",
   "execution_count": null,
   "metadata": {},
   "outputs": [],
   "source": [
    "date_string = '7/16/24 8:21'\n",
    "date_string2 = '2024-07-16 19:00:00.000000'\n",
    "parsed_date = datetime.strptime(date_string, '%m/%d/%y %H:%M')\n",
    "parsed_date2 = datetime.strptime(date_string2, '%Y-%m-%d %H:%M:%S.%f')\n",
    "x = [parsed_date2, parsed_date]\n",
    "x.sort()\n",
    "print(x)"
   ]
  },
  {
   "cell_type": "code",
   "execution_count": null,
   "metadata": {},
   "outputs": [],
   "source": [
    "sprint_health_dict = {'irrelevant_status_track_tasks': f\"{fake_changes_percent}%\",\n",
    "                      'last_day_completed_status_tasks': f\"{last_day_completions_percent}%\"\n",
    "                   }\n",
    "\n",
    "print(sprint_health_dict)"
   ]
  }
 ],
 "metadata": {
  "kernelspec": {
   "display_name": ".venv",
   "language": "python",
   "name": "python3"
  },
  "language_info": {
   "codemirror_mode": {
    "name": "ipython",
    "version": 3
   },
   "file_extension": ".py",
   "mimetype": "text/x-python",
   "name": "python",
   "nbconvert_exporter": "python",
   "pygments_lexer": "ipython3",
   "version": "3.9.7"
  }
 },
 "nbformat": 4,
 "nbformat_minor": 2
}
